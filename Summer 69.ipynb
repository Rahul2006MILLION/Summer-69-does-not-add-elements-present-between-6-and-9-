{
 "cells": [
  {
   "cell_type": "code",
   "execution_count": 2,
   "id": "ad00b7bf-8c9b-44d1-af7e-189d8725e866",
   "metadata": {},
   "outputs": [
    {
     "name": "stdin",
     "output_type": "stream",
     "text": [
      "Enter the Size of List you Want to Create:  10\n",
      "Enter the Number:  1\n",
      "Enter the Number:  2\n",
      "Enter the Number:  3\n",
      "Enter the Number:  4\n",
      "Enter the Number:  6\n",
      "Enter the Number:  99\n",
      "Enter the Number:  100\n",
      "Enter the Number:  87\n",
      "Enter the Number:  9\n",
      "Enter the Number:  2\n"
     ]
    },
    {
     "name": "stdout",
     "output_type": "stream",
     "text": [
      "Sum: 12\n"
     ]
    }
   ],
   "source": [
    "w=int(input(\"Enter the Size of List you Want to Create: \"))\n",
    "inside=False\n",
    "s=0\n",
    "l=[]\n",
    "for i in range(w):\n",
    "    a=int(input(\"Enter the Number: \"))\n",
    "    l.append(a)\n",
    "for j in l:\n",
    "    if j==6:\n",
    "        inside=True\n",
    "    elif j==9 and inside==True:\n",
    "        inside=False\n",
    "    elif inside==False:\n",
    "        s+=j\n",
    "print(f'Sum: {s}')"
   ]
  },
  {
   "cell_type": "code",
   "execution_count": null,
   "id": "00be3d43-52f9-4e46-ae98-2bad328f097c",
   "metadata": {},
   "outputs": [],
   "source": []
  }
 ],
 "metadata": {
  "kernelspec": {
   "display_name": "Python [conda env:base] *",
   "language": "python",
   "name": "conda-base-py"
  },
  "language_info": {
   "codemirror_mode": {
    "name": "ipython",
    "version": 3
   },
   "file_extension": ".py",
   "mimetype": "text/x-python",
   "name": "python",
   "nbconvert_exporter": "python",
   "pygments_lexer": "ipython3",
   "version": "3.13.5"
  }
 },
 "nbformat": 4,
 "nbformat_minor": 5
}
