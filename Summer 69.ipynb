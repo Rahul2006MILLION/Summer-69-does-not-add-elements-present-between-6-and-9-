w=int(input("Enter the Size of List you Want to Create: "))
inside=False
s=0
l=[]
for i in range(w):
    a=int(input("Enter the Number: "))
    l.append(a)
for j in l:
    if j==6:
        inside=True
    elif j==9 and inside==True:
        inside=False
    elif inside==False:
        s+=j
print(f'Sum: {s}')
